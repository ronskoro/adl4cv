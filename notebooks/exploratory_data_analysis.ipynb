{
 "cells": [
  {
   "cell_type": "code",
   "execution_count": 1,
   "metadata": {},
   "outputs": [
    {
     "name": "stdout",
     "output_type": "stream",
     "text": [
      "Intel MKL WARNING: Support of Intel(R) Streaming SIMD Extensions 4.2 (Intel(R) SSE4.2) enabled only processors has been deprecated. Intel oneAPI Math Kernel Library 2025.0 will require Intel(R) Advanced Vector Extensions (Intel(R) AVX) instructions.\n",
      "Intel MKL WARNING: Support of Intel(R) Streaming SIMD Extensions 4.2 (Intel(R) SSE4.2) enabled only processors has been deprecated. Intel oneAPI Math Kernel Library 2025.0 will require Intel(R) Advanced Vector Extensions (Intel(R) AVX) instructions.\n"
     ]
    }
   ],
   "source": [
    "import torch\n",
    "import torch.nn as nn\n",
    "import torch.optim as optim\n",
    "import torchvision.transforms as transforms\n",
    "from torch.utils.data import DataLoader, Dataset\n",
    "import numpy as np\n",
    "import matplotlib.pyplot as plt\n",
    "from PIL import Image\n",
    "from plyfile import PlyData"
   ]
  },
  {
   "cell_type": "code",
   "execution_count": 4,
   "metadata": {},
   "outputs": [
    {
     "name": "stdout",
     "output_type": "stream",
     "text": [
      "ply\n",
      "format binary_little_endian 1.0\n",
      "comment VCGLIB generated\n",
      "element vertex 81369\n",
      "property float x\n",
      "property float y\n",
      "property float z\n",
      "property uchar red\n",
      "property uchar green\n",
      "property uchar blue\n",
      "property uchar alpha\n",
      "element face 153587\n",
      "property list uchar int vertex_indices\n",
      "end_header\n",
      "\n",
      "vertex data\n",
      "7\n",
      "x: [0.5324214  0.53404164 0.544779   0.5319752  0.52005076 0.53090763\n",
      " 0.5435133  0.5211338  0.5306945  0.5262134 ]\n",
      "y: [4.5172734 4.552089  4.4811263 4.5118823 4.525821  4.4639053 4.52379\n",
      " 4.5587955 4.4245367 4.4974585]\n",
      "z: [0.26304942 0.262302   0.17396316 0.1781445  0.15788905 0.22248712\n",
      " 0.23870371 0.0829171  0.24097411 0.2422304 ]\n",
      "red: [101  88  39 132 101 100  66  92 101 113]\n",
      "green: [107  83  39 117  88 100  55  75 100 108]\n",
      "blue: [ 90  78  35 108  76  82  56  51  86  88]\n",
      "alpha: [255 255 255 255 255 255 255 255 255 255]\n"
     ]
    }
   ],
   "source": [
    "ply_file_path = '../data/scans/scene0000_00/scene0000_00_vh_clean_2.ply'\n",
    "\n",
    "ply_data = PlyData.read(ply_file_path)\n",
    "print(ply_data)\n",
    "\n",
    "# Accessing vertex data\n",
    "vertex = ply_data['vertex']\n",
    "print('\\nvertex data')\n",
    "print(len(vertex.properties))\n",
    "for prop in vertex.properties:\n",
    "    print(f\"{prop.name}: {vertex[prop.name][:10]}\")  # Display the first 10 values for each property"
   ]
  },
  {
   "cell_type": "code",
   "execution_count": 7,
   "metadata": {},
   "outputs": [
    {
     "name": "stdout",
     "output_type": "stream",
     "text": [
      "(0.5324214, 4.5172734, 0.26304942, 101, 107, 90, 255)\n",
      "(0.53404164, 4.552089, 0.262302, 88, 83, 78, 255)\n",
      "(0.544779, 4.4811263, 0.17396316, 39, 39, 35, 255)\n",
      "(0.5319752, 4.5118823, 0.1781445, 132, 117, 108, 255)\n",
      "(0.52005076, 4.525821, 0.15788905, 101, 88, 76, 255)\n",
      "(0.53090763, 4.4639053, 0.22248712, 100, 100, 82, 255)\n",
      "(0.5435133, 4.52379, 0.23870371, 66, 55, 56, 255)\n",
      "(0.5211338, 4.5587955, 0.0829171, 92, 75, 51, 255)\n",
      "(0.5306945, 4.4245367, 0.24097411, 101, 100, 86, 255)\n",
      "(0.5262134, 4.4974585, 0.2422304, 113, 108, 88, 255)\n"
     ]
    }
   ],
   "source": [
    "for i in range(10):\n",
    "    print(vertex[i])"
   ]
  },
  {
   "cell_type": "code",
   "execution_count": 3,
   "metadata": {},
   "outputs": [
    {
     "name": "stdout",
     "output_type": "stream",
     "text": [
      "\n",
      "First 7 vertices:\n",
      "{'x': 0.5324214, 'y': 4.5172734, 'z': 0.26304942, 'red': 101, 'green': 107, 'blue': 90, 'alpha': 255}\n",
      "{'x': 0.53404164, 'y': 4.552089, 'z': 0.262302, 'red': 88, 'green': 83, 'blue': 78, 'alpha': 255}\n",
      "{'x': 0.544779, 'y': 4.4811263, 'z': 0.17396316, 'red': 39, 'green': 39, 'blue': 35, 'alpha': 255}\n",
      "{'x': 0.5319752, 'y': 4.5118823, 'z': 0.1781445, 'red': 132, 'green': 117, 'blue': 108, 'alpha': 255}\n",
      "{'x': 0.52005076, 'y': 4.525821, 'z': 0.15788905, 'red': 101, 'green': 88, 'blue': 76, 'alpha': 255}\n",
      "{'x': 0.53090763, 'y': 4.4639053, 'z': 0.22248712, 'red': 100, 'green': 100, 'blue': 82, 'alpha': 255}\n",
      "{'x': 0.5435133, 'y': 4.52379, 'z': 0.23870371, 'red': 66, 'green': 55, 'blue': 56, 'alpha': 255}\n"
     ]
    }
   ],
   "source": [
    "sample_count = 7\n",
    "print(f\"\\nFirst {sample_count} vertices:\")\n",
    "for i in range(sample_count):\n",
    "    point = {prop.name: vertex[prop.name][i] for prop in vertex.properties}\n",
    "    print(point)"
   ]
  },
  {
   "cell_type": "code",
   "execution_count": 9,
   "metadata": {},
   "outputs": [
    {
     "name": "stdout",
     "output_type": "stream",
     "text": [
      "(array([   9, 5007, 5754], dtype=int32),)\n",
      "(array([5008, 5007,    9], dtype=int32),)\n",
      "(array([5008,    0, 8007], dtype=int32),)\n",
      "(array([6, 1, 9], dtype=int32),)\n",
      "(array([385,   1,   6], dtype=int32),)\n",
      "(array([   0,    1, 8007], dtype=int32),)\n",
      "(array([   0, 5008,    9], dtype=int32),)\n",
      "(array([9, 1, 0], dtype=int32),)\n",
      "(array([  4, 368,   3], dtype=int32),)\n",
      "(array([368,   4, 361], dtype=int32),)\n"
     ]
    }
   ],
   "source": [
    "for i in range(10):\n",
    "    print(ply_data[\"face\"][i])"
   ]
  }
 ],
 "metadata": {
  "kernelspec": {
   "display_name": "adl4cv",
   "language": "python",
   "name": "python3"
  },
  "language_info": {
   "codemirror_mode": {
    "name": "ipython",
    "version": 3
   },
   "file_extension": ".py",
   "mimetype": "text/x-python",
   "name": "python",
   "nbconvert_exporter": "python",
   "pygments_lexer": "ipython3",
   "version": "3.12.2"
  }
 },
 "nbformat": 4,
 "nbformat_minor": 2
}
